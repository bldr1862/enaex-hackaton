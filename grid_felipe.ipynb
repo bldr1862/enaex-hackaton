{
 "cells": [
  {
   "cell_type": "code",
   "execution_count": null,
   "metadata": {},
   "outputs": [],
   "source": [
    "import pandas as pd\n",
    "import pickle\n",
    "import numpy as np\n",
    "from tqdm import tqdm\n",
    "import logging\n",
    "from joblib import Parallel, delayed\n",
    "import multiprocessing\n",
    "from multiprocessing import Process, Manager"
   ]
  },
  {
   "cell_type": "code",
   "execution_count": null,
   "metadata": {},
   "outputs": [],
   "source": [
    "logging.basicConfig(level=logging.WARNING)"
   ]
  },
  {
   "cell_type": "code",
   "execution_count": null,
   "metadata": {},
   "outputs": [],
   "source": [
    "class CategoricalEncoder:\n",
    "    \n",
    "    \"\"\"\n",
    "    It also changes the data type to int\n",
    "    \"\"\"\n",
    "    \n",
    "    def __init__(self, cols, method = 'classic'):\n",
    "        self.COLUMNS = cols\n",
    "        self.METHOD = method\n",
    "        self.encoder = {}\n",
    "        self.inverse_encoder = {}\n",
    "        \n",
    "    def fit(self, X, y=None):\n",
    "        X = X.copy()\n",
    "        if self.METHOD == 'classic':\n",
    "            for col in self.COLUMNS:\n",
    "                self.encoder[col] = {}\n",
    "                self.inverse_encoder[col] = {}\n",
    "                unique_values = X[col].unique()\n",
    "                for i, val in enumerate(unique_values):\n",
    "                    self.encoder[col][val] = i\n",
    "                    self.inverse_encoder[col][i] = val\n",
    "                    \n",
    "        if self.METHOD == 'mean':\n",
    "            for col in self.COLUMNS:\n",
    "                self.encoder[col] = {}\n",
    "                self.inverse_encoder[col] = {}\n",
    "                unique_values = X[col].unique()\n",
    "                for val in unique_values:\n",
    "                    tmp = X[col][X[col] == val]\n",
    "                    mean = y.loc[tmp.index, 'P80'].mean()\n",
    "                    self.encoder[col][val] = mean\n",
    "                    self.inverse_encoder[col][mean] = val\n",
    "                self.encoder['NaN'] = y['P80'].mean()\n",
    "        return self\n",
    "    \n",
    "    def transform(self, X):\n",
    "        X = X.copy()\n",
    "        for col in self.COLUMNS:\n",
    "            X[col] = X[col].map(self.encoder[col]).fillna(self.encoder['NaN'])\n",
    "        return X\n",
    "    \n",
    "    def inverse_transform(self, X):\n",
    "        X = X.copy()\n",
    "        for col in self.COLUMNS:\n",
    "            X[col] = X[col].replace(self.inverse_encoder[col])\n",
    "        return X\n",
    "    "
   ]
  },
  {
   "cell_type": "code",
   "execution_count": null,
   "metadata": {},
   "outputs": [],
   "source": [
    "with open('models/CONF.pickle', 'rb') as handle:\n",
    "    CONF = pickle.load(handle)\n",
    "    \n",
    "with open('models/encoder.pickle', 'rb') as handle:\n",
    "    encoder = pickle.load(handle)"
   ]
  },
  {
   "cell_type": "code",
   "execution_count": null,
   "metadata": {},
   "outputs": [],
   "source": [
    "CATEGORICAL_COLS = ['Fase', 'Tipo de tronadura', 'Tipo Material', 'M', 'Dominio Estructural', 'Tipo Explosivo']\n",
    "NUMERICAL_COLS = ['Banco', 'Diámetro', 'Fc', 'Cota', 'B', 'S', 'tiempo_1', 'tiempo_2']\n",
    "TARGET_COLS = ['P10', 'P20', 'P30', 'P40', 'P50', 'P60', 'P70', 'P80', 'P90', 'P100']"
   ]
  },
  {
   "cell_type": "code",
   "execution_count": null,
   "metadata": {},
   "outputs": [],
   "source": [
    "def take_in_out(x):\n",
    "    x = str(x)\n",
    "    if '..' in x:\n",
    "        x = x.replace('..','.')\n",
    "    elif ' in' in x:\n",
    "        x = x.replace(' in','')\n",
    "    return x\n",
    "\n",
    "def take_double_dots_out(x):\n",
    "    x = str(x)\n",
    "    if '..' in x:\n",
    "        x = x.replace('..','.')\n",
    "    return x"
   ]
  },
  {
   "cell_type": "code",
   "execution_count": null,
   "metadata": {},
   "outputs": [],
   "source": [
    "df_stage3 = pd.read_excel('data/Datos_Entregable3_Hackathon.xlsx', header=2)\n",
    "df_stage3['Norte'] = df_stage3['Norte'].apply(lambda x: take_double_dots_out(x))\n",
    "df_stage3['Este'] = df_stage3['Este'].apply(lambda x: take_double_dots_out(x))\n",
    "df_stage3['Norte'] = pd.to_numeric(df_stage3['Norte'].replace({'nan':None}))\n",
    "df_stage3['Este'] = pd.to_numeric(df_stage3['Este'].replace({'nan':None}))"
   ]
  },
  {
   "cell_type": "code",
   "execution_count": null,
   "metadata": {},
   "outputs": [],
   "source": [
    "df_target=df_stage3[TARGET_COLS].copy()\n",
    "df_target = df_target.add_suffix('_real')\n",
    "df_stage3=df_stage3.drop(columns=TARGET_COLS,errors='ignore')"
   ]
  },
  {
   "cell_type": "code",
   "execution_count": null,
   "metadata": {},
   "outputs": [],
   "source": [
    "#para comparar formato y columnas faltantes\n",
    "df_historic = pd.read_csv('data/data_fixed.csv', sep = ';')\n",
    "df_historic = df_historic[df_historic['Tipo Explosivo'] != 'M']\n",
    "df_historic = df_historic.dropna()"
   ]
  },
  {
   "cell_type": "raw",
   "metadata": {},
   "source": [
    "restricciones:\n",
    "    -100 < FC < 1000\n",
    "    -tiempo_1 < tiempo_2\n",
    "    -Diametro, Fraccion, dist min, dist max\n",
    "        12.25 == 1/4 -> 5.5 - 15 m\n",
    "        10.625 == 10 5/8 -> 5.5 - 15 m\n",
    "        9.875 == 9 7/8 -> 5 - 15m\n",
    "        7.875 == 7 7/8 -> 4 - 15m\n",
    "        6.5 == 6 1/2 -> 4 - 15m\n",
    "        6 == 6 -> 3.6 - 15    \n",
    "    -25*D_p ou S/2 ou B/2 < T < B/2 ou h_b/2=7.5"
   ]
  },
  {
   "cell_type": "code",
   "execution_count": null,
   "metadata": {},
   "outputs": [],
   "source": [
    "rho_explosivo = {\n",
    "\"A\": 0.77,\n",
    "\"B\": 1.34,\n",
    "\"C\": 1.32,\n",
    "\"D\": 1.00,\n",
    "\"E\": 1.32,\n",
    "\"F\": 1.30,\n",
    "\"G\": 1.00,\n",
    "\"H\": 1.00,\n",
    "\"I\": 1.20,\n",
    "\"J\": 1.32,\n",
    "\"K\": 1.32,\n",
    "\"L\": 1.32\n",
    "}\n",
    "\n",
    "rho_roca = {\n",
    "\"L1\": 2.53,\n",
    "\"L2\": 2.53,\n",
    "\"L3\": 2.65,\n",
    "\"L4\": 2.65,\n",
    "\"L5\": 2.49,\n",
    "\"L6\": 2.49,\n",
    "\"L7\": 2.65,\n",
    "\"L8\": 2.74\n",
    "}"
   ]
  },
  {
   "cell_type": "code",
   "execution_count": null,
   "metadata": {},
   "outputs": [],
   "source": [
    "#se debe convertir la pulgada a metros (dividir por 39.370)\n",
    "def gr_explosivo(D_p,T,rho_explosivo):\n",
    "    return (3.14 * (D_p*0.0254)**2) / 4  * ( 16 - T ) * rho_explosivo\n",
    "\n",
    "def ton_carga(B,S,rho_roca):\n",
    "    return B*S*15* rho_roca/1000000"
   ]
  },
  {
   "cell_type": "code",
   "execution_count": null,
   "metadata": {},
   "outputs": [],
   "source": [
    "diametro=[6,6.5,7.875,9.875,10.625] # se elimina 12.25 debido a que es infactible"
   ]
  },
  {
   "cell_type": "code",
   "execution_count": null,
   "metadata": {},
   "outputs": [],
   "source": [
    "B=list(np.arange(3.5,15.1,0.5)) #step de 0.5 en base a lo visto en el historico\n",
    "B = [ round(elem, 1) for elem in B ]\n",
    "\n",
    "S=list(np.arange(3.5,15.1,0.5)) #step de 0.5 en base a lo visto en el historico\n",
    "S = [ round(elem, 1) for elem in S ]"
   ]
  },
  {
   "cell_type": "code",
   "execution_count": null,
   "metadata": {},
   "outputs": [],
   "source": [
    "tipo_explosivo=['A','B','C','D','E','F','G','H','I','J','K','L']"
   ]
  },
  {
   "cell_type": "code",
   "execution_count": null,
   "metadata": {},
   "outputs": [],
   "source": [
    "T=list(np.arange(1.75,7.6,0.5)) #valores minimos para T segun borde es 1.75, 0.5 para reducir tiempo\n",
    "T = [ round(elem, 1) for elem in T ]"
   ]
  },
  {
   "cell_type": "code",
   "execution_count": null,
   "metadata": {},
   "outputs": [],
   "source": [
    "tiempo_1=list(range(1,20)) #limites establecidos en base al historico\n",
    "tiempo_2=list(range(1,200)) #limites establecidos en base al historico "
   ]
  },
  {
   "cell_type": "code",
   "execution_count": null,
   "metadata": {},
   "outputs": [],
   "source": [
    "def process_node(i):\n",
    "    #contador=0\n",
    "    for j in diametro:\n",
    "        for k in B:\n",
    "            for l in S:\n",
    "                for m in tiempo_1:\n",
    "                    for n in tiempo_2:\n",
    "                        for o in tipo_explosivo:\n",
    "                            for p in T:\n",
    "                                if m>n: # condiciones de borde para tiempo\n",
    "                                    logging.debug('condicion borde tiempo: tiempo_1 = {m} y tiempo_2 = {n} '.format(m=m,n=n))\n",
    "                                    continue\n",
    "                                else:\n",
    "                                    if (j == 6     and ( (k<3.5 or k>=15) or (l<3.5 or l>=15) ) ):  # condiciones de borde para B y S\n",
    "                                        logging.debug('condicion borde BxS: diametro = {j}. B = {B} y S = {S}'.format(j=j,B=k,S=l))\n",
    "                                        continue\n",
    "                                    elif (j == 6.5   and ( (k<4 or k>=15)   or (l<4   or l>=15) ) ):  # condiciones de borde para B y S\n",
    "                                        logging.debug('condicion borde BxS: diametro = {j}. B = {B} y S = {S}'.format(j=j,B=k,S=l))\n",
    "                                        continue\n",
    "                                    elif (j == 7.875 and ( (k<4 or k>=15)   or (l<4   or l>=15) ) ):  # condiciones de borde para B y S\n",
    "                                        logging.debug('condicion borde BxS: diametro = {j}. B = {B} y S = {S}'.format(j=j,B=k,S=l))\n",
    "                                        continue\n",
    "                                    elif (j == 9.875 and ( (k<5 or k>=15)   or (l<5   or l>=15) ) ):  # condiciones de borde para B y S\n",
    "                                        logging.debug('condicion borde BxS: diametro = {j}. B = {B} y S = {S}'.format(j=j,B=k,S=l))\n",
    "                                        continue \n",
    "                                    elif (j == 10.625and ( (k<5.5 or k>=15) or (l<5.5 or l>=15) ) ):  # condiciones de borde para B y S\n",
    "                                        logging.debug('condicion borde BxS: diametro = {j}. B = {B} y S = {S}'.format(j=j,B=k,S=l))\n",
    "                                        continue\n",
    "                                    elif (j == 12.25 and ( (k<5.5 or k>=15) or (l<5.5 or l>=15) ) ):  # condiciones de borde para B y S\n",
    "                                        logging.debug('condicion borde BxS: diametro = {j}. B = {B} y S = {S}'.format(j=j,B=k,S=l))\n",
    "                                        continue\n",
    "                                    else: # cumple con las condiciones minimas de B y S y tiempo\n",
    "                                        if 25*j*0.0254>p or k/2>p or l/2>p or 7.5<p:  # condiciones de borde para el TACO\n",
    "                                            logging.debug('condicion borde TACO = {}'.format(p))\n",
    "                                            continue\n",
    "                                        else: # cumple con las condiciones del TACO\n",
    "                                            if gr_explosivo(j,p,rho_explosivo[o])/ton_carga(k,l,rho_roca[df_stage3.iloc[i]['M']])>1000 or gr_explosivo(j,p,rho_explosivo[o])/ton_carga(k,l,rho_roca[df_stage3.iloc[i]['M']])<100: #condiciones de FC\n",
    "                                                logging.debug('condicion borde FC  = {}'.format(gr_explosivo(j,p,rho_explosivo[o])/ton_carga(k,l,rho_roca[df_stage3.iloc[i]['M']])))\n",
    "                                                continue\n",
    "                                            else: # cumple con condiciones FC\n",
    "                                                temp = {\n",
    "                                                \"index\": int(i),\n",
    "                                                \"Diámetro\": float(j),\n",
    "                                                \"B\": float(k),\n",
    "                                                \"S\": float(l),\n",
    "                                                \"tiempo_1\": int(m),\n",
    "                                                \"tiempo_2\": int(n),\n",
    "                                                \"Fc\": float(gr_explosivo(j,p,rho_explosivo[o])/ton_carga(k,l,rho_roca[df_stage3.iloc[i]['M']])),\n",
    "                                                \"Tipo Explosivo\": o\n",
    "                                                }\n",
    "                                                malla_list.append(temp)\n",
    "                                                #contador=contador+1\n",
    "                                                #if contador%10==0:\n",
    "                                                #    return 'done' #return de example, hay que borrar para que corra sobre todas las posibilidades\n",
    "    return 'malla finalizada'\n",
    "\n",
    "    "
   ]
  },
  {
   "cell_type": "code",
   "execution_count": null,
   "metadata": {},
   "outputs": [],
   "source": [
    "malla_list = Manager().list()  # <-- can be shared between processes.\n",
    "malla = pd.DataFrame(columns=[*CATEGORICAL_COLS, *NUMERICAL_COLS,*TARGET_COLS])\n",
    "Parallel(n_jobs=-1)(delayed(process_node)(i) for i in tqdm(range(df_stage3.shape[0])))"
   ]
  },
  {
   "cell_type": "code",
   "execution_count": null,
   "metadata": {},
   "outputs": [],
   "source": [
    "malla_frame=pd.DataFrame(list(malla_list))"
   ]
  },
  {
   "cell_type": "code",
   "execution_count": null,
   "metadata": {},
   "outputs": [],
   "source": [
    "malla_frame.set_index('index',inplace=True)"
   ]
  },
  {
   "cell_type": "code",
   "execution_count": null,
   "metadata": {},
   "outputs": [],
   "source": [
    "malla=df_stage3.join(malla_frame)"
   ]
  },
  {
   "cell_type": "code",
   "execution_count": null,
   "metadata": {},
   "outputs": [],
   "source": [
    "df_test = encoder.transform(malla)\n",
    "for target in TARGET_COLS:\n",
    "    tmp = df_test[CONF[target]['columns']]\n",
    "    predictions = CONF[target]['model'].predict(tmp)\n",
    "    df_test[target] = predictions"
   ]
  },
  {
   "cell_type": "code",
   "execution_count": null,
   "metadata": {},
   "outputs": [],
   "source": [
    "final = df_test.join(df_target)"
   ]
  },
  {
   "cell_type": "code",
   "execution_count": null,
   "metadata": {},
   "outputs": [],
   "source": [
    "final['dif_80'] = abs((final['P80_real'] - final['P80'])/final['P80_real'])*100\n",
    "final['dif_70'] = abs((final['P70_real'] - final['P70'])/final['P70_real'])*100"
   ]
  },
  {
   "cell_type": "code",
   "execution_count": null,
   "metadata": {},
   "outputs": [],
   "source": [
    "final[(final['dif_80']<10) | (final['dif_70']<10)]"
   ]
  }
 ],
 "metadata": {
  "kernelspec": {
   "display_name": "Python 3",
   "language": "python",
   "name": "python3"
  },
  "language_info": {
   "codemirror_mode": {
    "name": "ipython",
    "version": 3
   },
   "file_extension": ".py",
   "mimetype": "text/x-python",
   "name": "python",
   "nbconvert_exporter": "python",
   "pygments_lexer": "ipython3",
   "version": "3.6.5"
  }
 },
 "nbformat": 4,
 "nbformat_minor": 4
}

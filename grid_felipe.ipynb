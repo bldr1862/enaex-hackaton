{
 "cells": [
  {
   "cell_type": "code",
   "execution_count": null,
   "metadata": {},
   "outputs": [],
   "source": [
    "import pandas as pd\n",
    "import pickle\n",
    "import numpy as np"
   ]
  },
  {
   "cell_type": "code",
   "execution_count": null,
   "metadata": {},
   "outputs": [],
   "source": [
    "class CategoricalEncoder:\n",
    "    \n",
    "    \"\"\"\n",
    "    It also changes the data type to int\n",
    "    \"\"\"\n",
    "    \n",
    "    def __init__(self, cols, method = 'classic'):\n",
    "        self.COLUMNS = cols\n",
    "        self.METHOD = method\n",
    "        self.encoder = {}\n",
    "        self.inverse_encoder = {}\n",
    "        \n",
    "    def fit(self, X, y=None):\n",
    "        X = X.copy()\n",
    "        if self.METHOD == 'classic':\n",
    "            for col in self.COLUMNS:\n",
    "                self.encoder[col] = {}\n",
    "                self.inverse_encoder[col] = {}\n",
    "                unique_values = X[col].unique()\n",
    "                for i, val in enumerate(unique_values):\n",
    "                    self.encoder[col][val] = i\n",
    "                    self.inverse_encoder[col][i] = val\n",
    "                    \n",
    "        if self.METHOD == 'mean':\n",
    "            for col in self.COLUMNS:\n",
    "                self.encoder[col] = {}\n",
    "                self.inverse_encoder[col] = {}\n",
    "                unique_values = X[col].unique()\n",
    "                for val in unique_values:\n",
    "                    tmp = X[col][X[col] == val]\n",
    "                    mean = y.loc[tmp.index, 'P80'].mean()\n",
    "                    self.encoder[col][val] = mean\n",
    "                    self.inverse_encoder[col][mean] = val\n",
    "                self.encoder['NaN'] = y['P80'].mean()\n",
    "        return self\n",
    "    \n",
    "    def transform(self, X):\n",
    "        X = X.copy()\n",
    "        for col in self.COLUMNS:\n",
    "            X[col] = X[col].map(self.encoder[col]).fillna(self.encoder['NaN'])\n",
    "        return X\n",
    "    \n",
    "    def inverse_transform(self, X):\n",
    "        X = X.copy()\n",
    "        for col in self.COLUMNS:\n",
    "            X[col] = X[col].replace(self.inverse_encoder[col])\n",
    "        return X\n",
    "    "
   ]
  },
  {
   "cell_type": "code",
   "execution_count": null,
   "metadata": {},
   "outputs": [],
   "source": [
    "with open('models/CONF.pickle', 'rb') as handle:\n",
    "    CONF = pickle.load(handle)\n",
    "    \n",
    "with open('models/encoder.pickle', 'rb') as handle:\n",
    "    encoder = pickle.load(handle)"
   ]
  },
  {
   "cell_type": "code",
   "execution_count": null,
   "metadata": {},
   "outputs": [],
   "source": [
    "df_historic = pd.read_csv('data/data_fixed.csv', sep = ';')\n",
    "df_historic = df_historic[df_historic['Tipo Explosivo'] != 'M']\n",
    "df_historic = df_historic.dropna()"
   ]
  },
  {
   "cell_type": "code",
   "execution_count": null,
   "metadata": {},
   "outputs": [],
   "source": [
    "\"\"\"restricciones:\n",
    "    -100 < FC < 1000\n",
    "    -tiempo_1 < tiempo_2\n",
    "    -Diametro, Fraccion, dist min, dist max\n",
    "    12.25 == 1/4 -> 5.5 - 15 m\n",
    "    10.625 == 10 5/8 -> 5.5 - 15 m\n",
    "    9.875 == 9 7/8 -> 5 - 15m\n",
    "    7.875 == 7 7/8 -> 4 - 15m\n",
    "    6.5 == 6 1/2 -> 4 - 15m\n",
    "    6 == 6 -> 3.6 - 15 m\n",
    "\"\"\""
   ]
  },
  {
   "cell_type": "code",
   "execution_count": null,
   "metadata": {},
   "outputs": [],
   "source": [
    "\"\"\"\n",
    "Diámetro - BxS - Tiempo entre Pozos Filas ms - Fc - Tipo Explosivo\n",
    "\"\"\""
   ]
  },
  {
   "cell_type": "code",
   "execution_count": null,
   "metadata": {},
   "outputs": [],
   "source": [
    "FC=list(range(100,1001))"
   ]
  },
  {
   "cell_type": "code",
   "execution_count": null,
   "metadata": {},
   "outputs": [],
   "source": [
    "diametro=[6,6.5,7.875,9.875,10.625,12.25]"
   ]
  },
  {
   "cell_type": "code",
   "execution_count": null,
   "metadata": {},
   "outputs": [],
   "source": [
    "B=list(np.arange(3.5,15.1,0.1))\n",
    "B = [ round(elem, 2) for elem in B ]\n",
    "\n",
    "S=list(np.arange(3.5,15.1,0.1))\n",
    "S = [ round(elem, 2) for elem in S ]"
   ]
  },
  {
   "cell_type": "code",
   "execution_count": null,
   "metadata": {},
   "outputs": [],
   "source": [
    "tiempo_1=list(range(0,201))\n",
    "tiempo_2=list(range(0,201))"
   ]
  },
  {
   "cell_type": "code",
   "execution_count": null,
   "metadata": {},
   "outputs": [],
   "source": [
    "for i in FC:\n",
    "    for j in diametro:\n",
    "        for k in B:\n",
    "            for l in S:\n",
    "                for m in tiempo_1:\n",
    "                    for n in tiempo_2:\n",
    "                        if m>n: # condiciones de borde\n",
    "                            continue\n",
    "                        elif (j == 6     and ( (k<3.5 or k>=15) or (l<3.5 or l>=15) ) ):  # condiciones de borde\n",
    "                            continue\n",
    "                        elif (j == 6.5   and ( (k<4 or k>=15)   or (l<4   or l>=15) ) ):  # condiciones de borde\n",
    "                            continue\n",
    "                        elif (j == 7.875 and ( (k<4 or k>=15)   or (l<4   or l>=15) ) ):  # condiciones de borde\n",
    "                            continue\n",
    "                        elif (j == 9.875 and ( (k<5 or k>=15)   or (l<5   or l>=15) ) ):  # condiciones de borde\n",
    "                            continue \n",
    "                        elif (j == 10.625and ( (k<5.5 or k>=15) or (l<5.5 or l>=15) ) ):  # condiciones de borde\n",
    "                            continue\n",
    "                        elif (j == 12.25 and ( (k<5.5 or k>=15) or (l<5.5 or l>=15) ) ):  # condiciones de borde\n",
    "                            continue\n",
    "                        else: # cumple con las condiciones minimas\n",
    "                            print (\"FC: \" + str(i))\n",
    "                            print (\"diametro: \"+ str(j) )\n",
    "                            print (\"B: \" + str(k))\n",
    "                            print (\"S: \"+ str(l))\n",
    "                            print (\"tiempo_1: \"+ str(m))\n",
    "                            print (\"tiempo_2: \"+ str(n))\n",
    "                            "
   ]
  },
  {
   "cell_type": "code",
   "execution_count": null,
   "metadata": {},
   "outputs": [],
   "source": []
  }
 ],
 "metadata": {
  "kernelspec": {
   "display_name": "Python 3",
   "language": "python",
   "name": "python3"
  },
  "language_info": {
   "codemirror_mode": {
    "name": "ipython",
    "version": 3
   },
   "file_extension": ".py",
   "mimetype": "text/x-python",
   "name": "python",
   "nbconvert_exporter": "python",
   "pygments_lexer": "ipython3",
   "version": "3.5.3"
  }
 },
 "nbformat": 4,
 "nbformat_minor": 4
}

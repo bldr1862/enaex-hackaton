{
 "cells": [
  {
   "cell_type": "code",
   "execution_count": 14,
   "metadata": {},
   "outputs": [],
   "source": [
    "import pandas as pd\n",
    "import pickle"
   ]
  },
  {
   "cell_type": "code",
   "execution_count": 15,
   "metadata": {},
   "outputs": [],
   "source": [
    "class CategoricalEncoder:\n",
    "    \n",
    "    \"\"\"\n",
    "    It also changes the data type to int\n",
    "    \"\"\"\n",
    "    \n",
    "    def __init__(self, cols, method = 'classic'):\n",
    "        self.COLUMNS = cols\n",
    "        self.METHOD = method\n",
    "        self.encoder = {}\n",
    "        self.inverse_encoder = {}\n",
    "        \n",
    "    def fit(self, X, y=None):\n",
    "        X = X.copy()\n",
    "        if self.METHOD == 'classic':\n",
    "            for col in self.COLUMNS:\n",
    "                self.encoder[col] = {}\n",
    "                self.inverse_encoder[col] = {}\n",
    "                unique_values = X[col].unique()\n",
    "                for i, val in enumerate(unique_values):\n",
    "                    self.encoder[col][val] = i\n",
    "                    self.inverse_encoder[col][i] = val\n",
    "                    \n",
    "        if self.METHOD == 'mean':\n",
    "            for col in self.COLUMNS:\n",
    "                self.encoder[col] = {}\n",
    "                self.inverse_encoder[col] = {}\n",
    "                unique_values = X[col].unique()\n",
    "                for val in unique_values:\n",
    "                    tmp = X[col][X[col] == val]\n",
    "                    mean = y.loc[tmp.index, 'P80'].mean()\n",
    "                    self.encoder[col][val] = mean\n",
    "                    self.inverse_encoder[col][mean] = val\n",
    "                self.encoder['NaN'] = y['P80'].mean()\n",
    "        return self\n",
    "    \n",
    "    def transform(self, X):\n",
    "        X = X.copy()\n",
    "        for col in self.COLUMNS:\n",
    "            X[col] = X[col].map(self.encoder[col]).fillna(self.encoder['NaN'])\n",
    "        return X\n",
    "    \n",
    "    def inverse_transform(self, X):\n",
    "        X = X.copy()\n",
    "        for col in self.COLUMNS:\n",
    "            X[col] = X[col].replace(self.inverse_encoder[col])\n",
    "        return X\n",
    "    "
   ]
  },
  {
   "cell_type": "code",
   "execution_count": 16,
   "metadata": {},
   "outputs": [],
   "source": [
    "with open('models/CONF.pickle', 'rb') as handle:\n",
    "    CONF = pickle.load(handle)\n",
    "    \n",
    "with open('models/encoder.pickle', 'rb') as handle:\n",
    "    encoder = pickle.load(handle)"
   ]
  },
  {
   "cell_type": "code",
   "execution_count": 17,
   "metadata": {},
   "outputs": [],
   "source": [
    "df_historic = pd.read_csv('data/data_fixed.csv', sep = ';')\n",
    "df_historic = df_historic[df_historic['Tipo Explosivo'] != 'M']\n",
    "df_historic = df_historic.dropna()"
   ]
  },
  {
   "cell_type": "code",
   "execution_count": 18,
   "metadata": {},
   "outputs": [],
   "source": [
    "df_stage3 = pd.read_excel('data/Datos_Entregable3_Hackathon.xlsx', header=2)"
   ]
  },
  {
   "cell_type": "code",
   "execution_count": 22,
   "metadata": {},
   "outputs": [
    {
     "data": {
      "text/plain": [
       "'\\nP70 FOR tiempo_1\\nP80 FOR EVERYTHING ELSE\\n'"
      ]
     },
     "execution_count": 22,
     "metadata": {},
     "output_type": "execute_result"
    }
   ],
   "source": [
    "\"\"\"\n",
    "P70 FOR tiempo_1\n",
    "P80 FOR EVERYTHING ELSE\n",
    "\"\"\""
   ]
  },
  {
   "cell_type": "code",
   "execution_count": 23,
   "metadata": {},
   "outputs": [
    {
     "data": {
      "text/plain": [
       "array([10.625, 12.25 ,  7.875,  9.875, 11.625])"
      ]
     },
     "execution_count": 23,
     "metadata": {},
     "output_type": "execute_result"
    }
   ],
   "source": [
    "df_historic['Diámetro'].unique()"
   ]
  },
  {
   "cell_type": "code",
   "execution_count": 24,
   "metadata": {},
   "outputs": [
    {
     "name": "stdout",
     "output_type": "stream",
     "text": [
      "0\n"
     ]
    }
   ],
   "source": [
    "\"\"\"\n",
    "Search Diametro, BxS, Tiempo Entre Pozos, Fc, Tipo Explosivos\n",
    "\n",
    "Restricciones:\n",
    "    Fc:\n",
    "        min: 100\n",
    "        max: 1000\n",
    "    \n",
    "    tiempo_1 < tiempo_2\n",
    "    \n",
    "    Diametro, Fraccion, dist min, dist max\n",
    "    12.25 == 1/4 -> 5.5 - 15 m\n",
    "    10.625 == 10 5/8 -> 5.5 - 15 m\n",
    "    9.875 == 9 7/8 -> 5 - 15m\n",
    "    7.875 == 7 7/8 -> 4 - 15m\n",
    "    6.5 == 6 1/2 -> 4 - 15m\n",
    "    6 == 6 -> 3.6 - 15 m\n",
    "    \n",
    "Crear Algoritmo Genetico\n",
    "\"\"\"\n",
    "print(0)"
   ]
  },
  {
   "cell_type": "code",
   "execution_count": null,
   "metadata": {},
   "outputs": [],
   "source": []
  }
 ],
 "metadata": {
  "kernelspec": {
   "display_name": "Python 3",
   "language": "python",
   "name": "python3"
  },
  "language_info": {
   "codemirror_mode": {
    "name": "ipython",
    "version": 3
   },
   "file_extension": ".py",
   "mimetype": "text/x-python",
   "name": "python",
   "nbconvert_exporter": "python",
   "pygments_lexer": "ipython3",
   "version": "3.6.8"
  }
 },
 "nbformat": 4,
 "nbformat_minor": 2
}

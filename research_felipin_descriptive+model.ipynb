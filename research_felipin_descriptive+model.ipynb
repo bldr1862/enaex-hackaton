{
 "cells": [
  {
   "cell_type": "code",
   "execution_count": 1,
   "metadata": {},
   "outputs": [],
   "source": [
    "import pandas as pd\n",
    "import numpy as np\n",
    "import pandas_profiling\n",
    "\n",
    "pd.options.mode.chained_assignment = None\n",
    "pd.options.display.max_columns = 200\n",
    "pd.options.display.max_rows = 200"
   ]
  },
  {
   "cell_type": "code",
   "execution_count": 2,
   "metadata": {},
   "outputs": [],
   "source": [
    "data=pd.read_csv('data/data_fixed.csv',sep =';')"
   ]
  },
  {
   "cell_type": "code",
   "execution_count": 3,
   "metadata": {},
   "outputs": [],
   "source": [
    "descriptive=False\n",
    "h2o2=True\n",
    "save=False"
   ]
  },
  {
   "cell_type": "code",
   "execution_count": 4,
   "metadata": {},
   "outputs": [
    {
     "data": {
      "text/html": [
       "<div>\n",
       "<style scoped>\n",
       "    .dataframe tbody tr th:only-of-type {\n",
       "        vertical-align: middle;\n",
       "    }\n",
       "\n",
       "    .dataframe tbody tr th {\n",
       "        vertical-align: top;\n",
       "    }\n",
       "\n",
       "    .dataframe thead th {\n",
       "        text-align: right;\n",
       "    }\n",
       "</style>\n",
       "<table border=\"1\" class=\"dataframe\">\n",
       "  <thead>\n",
       "    <tr style=\"text-align: right;\">\n",
       "      <th></th>\n",
       "      <th>Fase</th>\n",
       "      <th>Banco</th>\n",
       "      <th>Tipo de tronadura</th>\n",
       "      <th>Tipo Material</th>\n",
       "      <th>M</th>\n",
       "      <th>Dominio Estructural</th>\n",
       "      <th>Diámetro</th>\n",
       "      <th>BxS</th>\n",
       "      <th>Tiempo entre Pozos Filas ms</th>\n",
       "      <th>Fc</th>\n",
       "      <th>Tipo Explosivo</th>\n",
       "      <th>P10</th>\n",
       "      <th>P20</th>\n",
       "      <th>P30</th>\n",
       "      <th>P40</th>\n",
       "      <th>P50</th>\n",
       "      <th>P60</th>\n",
       "      <th>P70</th>\n",
       "      <th>P80</th>\n",
       "      <th>P90</th>\n",
       "      <th>P100</th>\n",
       "      <th>Este</th>\n",
       "      <th>Norte</th>\n",
       "      <th>Cota</th>\n",
       "      <th>B</th>\n",
       "      <th>S</th>\n",
       "      <th>tiempo_1</th>\n",
       "      <th>tiempo_2</th>\n",
       "    </tr>\n",
       "  </thead>\n",
       "  <tbody>\n",
       "    <tr>\n",
       "      <td>0</td>\n",
       "      <td>Stage 5</td>\n",
       "      <td>2930.0</td>\n",
       "      <td>Tronadura 1</td>\n",
       "      <td>Roca 1</td>\n",
       "      <td>L4</td>\n",
       "      <td>Noreste</td>\n",
       "      <td>10.625</td>\n",
       "      <td>6.5x6.5</td>\n",
       "      <td>11-105</td>\n",
       "      <td>498.0</td>\n",
       "      <td>J</td>\n",
       "      <td>0.12</td>\n",
       "      <td>0.55</td>\n",
       "      <td>0.87</td>\n",
       "      <td>1.46</td>\n",
       "      <td>2.60</td>\n",
       "      <td>3.94</td>\n",
       "      <td>5.12</td>\n",
       "      <td>6.50</td>\n",
       "      <td>9.37</td>\n",
       "      <td>15.08</td>\n",
       "      <td>59095.2</td>\n",
       "      <td>90292.2</td>\n",
       "      <td>2930.0</td>\n",
       "      <td>6.5</td>\n",
       "      <td>6.5</td>\n",
       "      <td>11.0</td>\n",
       "      <td>105.0</td>\n",
       "    </tr>\n",
       "    <tr>\n",
       "      <td>1</td>\n",
       "      <td>Stage 4</td>\n",
       "      <td>2990.0</td>\n",
       "      <td>Tronadura 1</td>\n",
       "      <td>Roca 1</td>\n",
       "      <td>L4</td>\n",
       "      <td>Noreste</td>\n",
       "      <td>10.625</td>\n",
       "      <td>6.5x6.5</td>\n",
       "      <td>11-105</td>\n",
       "      <td>424.0</td>\n",
       "      <td>J</td>\n",
       "      <td>0.24</td>\n",
       "      <td>0.51</td>\n",
       "      <td>0.83</td>\n",
       "      <td>1.46</td>\n",
       "      <td>2.52</td>\n",
       "      <td>3.62</td>\n",
       "      <td>4.88</td>\n",
       "      <td>6.34</td>\n",
       "      <td>8.46</td>\n",
       "      <td>13.54</td>\n",
       "      <td>59276.7</td>\n",
       "      <td>90607.7</td>\n",
       "      <td>2990.0</td>\n",
       "      <td>6.5</td>\n",
       "      <td>6.5</td>\n",
       "      <td>11.0</td>\n",
       "      <td>105.0</td>\n",
       "    </tr>\n",
       "    <tr>\n",
       "      <td>2</td>\n",
       "      <td>Stage 4</td>\n",
       "      <td>2930.0</td>\n",
       "      <td>Tronadura 1</td>\n",
       "      <td>Roca 1</td>\n",
       "      <td>L4</td>\n",
       "      <td>Noreste</td>\n",
       "      <td>10.625</td>\n",
       "      <td>6.5x6.5</td>\n",
       "      <td>11-105</td>\n",
       "      <td>424.0</td>\n",
       "      <td>J</td>\n",
       "      <td>0.39</td>\n",
       "      <td>0.79</td>\n",
       "      <td>1.26</td>\n",
       "      <td>1.85</td>\n",
       "      <td>2.72</td>\n",
       "      <td>3.62</td>\n",
       "      <td>4.80</td>\n",
       "      <td>6.38</td>\n",
       "      <td>9.25</td>\n",
       "      <td>14.61</td>\n",
       "      <td>59067.4</td>\n",
       "      <td>90335.2</td>\n",
       "      <td>2930.0</td>\n",
       "      <td>6.5</td>\n",
       "      <td>6.5</td>\n",
       "      <td>11.0</td>\n",
       "      <td>105.0</td>\n",
       "    </tr>\n",
       "    <tr>\n",
       "      <td>3</td>\n",
       "      <td>Stage 4</td>\n",
       "      <td>2990.0</td>\n",
       "      <td>Tronadura 1</td>\n",
       "      <td>Roca 1</td>\n",
       "      <td>L4</td>\n",
       "      <td>Noreste</td>\n",
       "      <td>10.625</td>\n",
       "      <td>6.5x8</td>\n",
       "      <td>5-87</td>\n",
       "      <td>385.0</td>\n",
       "      <td>J</td>\n",
       "      <td>0.16</td>\n",
       "      <td>0.67</td>\n",
       "      <td>1.10</td>\n",
       "      <td>1.69</td>\n",
       "      <td>2.60</td>\n",
       "      <td>3.66</td>\n",
       "      <td>4.72</td>\n",
       "      <td>6.22</td>\n",
       "      <td>8.15</td>\n",
       "      <td>16.46</td>\n",
       "      <td>59278.6</td>\n",
       "      <td>90567.5</td>\n",
       "      <td>2990.0</td>\n",
       "      <td>6.5</td>\n",
       "      <td>8.0</td>\n",
       "      <td>5.0</td>\n",
       "      <td>87.0</td>\n",
       "    </tr>\n",
       "    <tr>\n",
       "      <td>4</td>\n",
       "      <td>Stage 2</td>\n",
       "      <td>3575.0</td>\n",
       "      <td>Tronadura 2</td>\n",
       "      <td>Roca 1</td>\n",
       "      <td>L8</td>\n",
       "      <td>Norte</td>\n",
       "      <td>10.625</td>\n",
       "      <td>7x7</td>\n",
       "      <td>5-87</td>\n",
       "      <td>507.0</td>\n",
       "      <td>K</td>\n",
       "      <td>0.59</td>\n",
       "      <td>0.79</td>\n",
       "      <td>1.02</td>\n",
       "      <td>1.34</td>\n",
       "      <td>1.89</td>\n",
       "      <td>2.91</td>\n",
       "      <td>4.06</td>\n",
       "      <td>4.88</td>\n",
       "      <td>6.38</td>\n",
       "      <td>11.46</td>\n",
       "      <td>59238.4</td>\n",
       "      <td>91671.4</td>\n",
       "      <td>3575.0</td>\n",
       "      <td>7.0</td>\n",
       "      <td>7.0</td>\n",
       "      <td>5.0</td>\n",
       "      <td>87.0</td>\n",
       "    </tr>\n",
       "  </tbody>\n",
       "</table>\n",
       "</div>"
      ],
      "text/plain": [
       "      Fase   Banco Tipo de tronadura Tipo Material   M Dominio Estructural  \\\n",
       "0  Stage 5  2930.0       Tronadura 1        Roca 1  L4             Noreste   \n",
       "1  Stage 4  2990.0       Tronadura 1        Roca 1  L4             Noreste   \n",
       "2  Stage 4  2930.0       Tronadura 1        Roca 1  L4             Noreste   \n",
       "3  Stage 4  2990.0       Tronadura 1        Roca 1  L4             Noreste   \n",
       "4  Stage 2  3575.0       Tronadura 2        Roca 1  L8               Norte   \n",
       "\n",
       "   Diámetro      BxS Tiempo entre Pozos Filas ms     Fc Tipo Explosivo   P10  \\\n",
       "0    10.625  6.5x6.5                      11-105  498.0              J  0.12   \n",
       "1    10.625  6.5x6.5                      11-105  424.0              J  0.24   \n",
       "2    10.625  6.5x6.5                      11-105  424.0              J  0.39   \n",
       "3    10.625    6.5x8                        5-87  385.0              J  0.16   \n",
       "4    10.625      7x7                        5-87  507.0              K  0.59   \n",
       "\n",
       "    P20   P30   P40   P50   P60   P70   P80   P90   P100     Este    Norte  \\\n",
       "0  0.55  0.87  1.46  2.60  3.94  5.12  6.50  9.37  15.08  59095.2  90292.2   \n",
       "1  0.51  0.83  1.46  2.52  3.62  4.88  6.34  8.46  13.54  59276.7  90607.7   \n",
       "2  0.79  1.26  1.85  2.72  3.62  4.80  6.38  9.25  14.61  59067.4  90335.2   \n",
       "3  0.67  1.10  1.69  2.60  3.66  4.72  6.22  8.15  16.46  59278.6  90567.5   \n",
       "4  0.79  1.02  1.34  1.89  2.91  4.06  4.88  6.38  11.46  59238.4  91671.4   \n",
       "\n",
       "     Cota    B    S  tiempo_1  tiempo_2  \n",
       "0  2930.0  6.5  6.5      11.0     105.0  \n",
       "1  2990.0  6.5  6.5      11.0     105.0  \n",
       "2  2930.0  6.5  6.5      11.0     105.0  \n",
       "3  2990.0  6.5  8.0       5.0      87.0  \n",
       "4  3575.0  7.0  7.0       5.0      87.0  "
      ]
     },
     "execution_count": 4,
     "metadata": {},
     "output_type": "execute_result"
    }
   ],
   "source": [
    "data.head()"
   ]
  },
  {
   "cell_type": "code",
   "execution_count": 5,
   "metadata": {},
   "outputs": [],
   "source": [
    "if descriptive==True:\n",
    "    reporte = data.profile_report(title='Pandas Profiling Report: {name}'.format(name='Exploratorio_general'),correlations={\"cramers\": False})\n",
    "    reporte.to_file(output_file=\"reportes/{name}.html\".format(name='Exploratorio_general'))"
   ]
  },
  {
   "cell_type": "markdown",
   "metadata": {},
   "source": [
    "condiciones de borde:\n",
    "    FC: 100 - 1000"
   ]
  },
  {
   "cell_type": "code",
   "execution_count": 6,
   "metadata": {},
   "outputs": [],
   "source": [
    "pes=['P10','P20','P30','P40','P50','P60','P70','P80','P90','P100']"
   ]
  },
  {
   "cell_type": "code",
   "execution_count": 7,
   "metadata": {},
   "outputs": [],
   "source": [
    "if descriptive==True:\n",
    "    for i in range(0,10):\n",
    "        wihout=pes[:i]+pes[i+1:]\n",
    "        reporte = data.drop(columns=wihout).profile_report(title='Pandas Profiling Report: {name}'.format(name='Exploratorio_'+pes[i]),correlations={\"cramers\": False})\n",
    "        reporte.to_file(output_file=\"reportes/{name}.html\".format(name='Exploratorio_'+pes[i]))"
   ]
  },
  {
   "cell_type": "code",
   "execution_count": 8,
   "metadata": {},
   "outputs": [],
   "source": [
    " #Porcentaje de datos vacios \n",
    "def missing_data(df):\n",
    "    total = df.isnull().sum().sort_values(ascending=False)\n",
    "    percent = round((df.isnull().sum()/df.isnull().count()*100).sort_values(ascending=False),2)\n",
    "    missing_data = pd.concat([total, percent], axis=1, keys=['Total', 'Percent'])\n",
    "    return missing_data\n",
    "\n",
    "if descriptive==True:\n",
    "    missing_data(data)"
   ]
  },
  {
   "cell_type": "code",
   "execution_count": 9,
   "metadata": {},
   "outputs": [],
   "source": [
    "data.drop(columns=['BxS','Tiempo entre Pozos Filas ms','Cota'],errors='ignore',inplace=True)"
   ]
  },
  {
   "cell_type": "code",
   "execution_count": 10,
   "metadata": {},
   "outputs": [],
   "source": [
    "data=data[data['Tipo Explosivo']!='M']"
   ]
  },
  {
   "cell_type": "code",
   "execution_count": 11,
   "metadata": {},
   "outputs": [],
   "source": [
    "target=['P10','P20','P30','P40','P50','P60','P70','P80','P90','P100']\n",
    "#target=['P80']"
   ]
  },
  {
   "cell_type": "code",
   "execution_count": 12,
   "metadata": {},
   "outputs": [],
   "source": [
    "from h2o.automl import H2OAutoML\n",
    "import h2o"
   ]
  },
  {
   "cell_type": "code",
   "execution_count": 13,
   "metadata": {},
   "outputs": [],
   "source": [
    "import re\n",
    "ignore_regex = re.compile('|'.join([re.escape(word) for word in target]))\n",
    "x = [word for word in data.columns if not ignore_regex.search(word)]\n",
    "y=target"
   ]
  },
  {
   "cell_type": "code",
   "execution_count": 14,
   "metadata": {},
   "outputs": [
    {
     "name": "stdout",
     "output_type": "stream",
     "text": [
      "Checking whether there is an H2O instance running at http://localhost:54321 ..... not found.\n",
      "Attempting to start a local H2O server...\n",
      "  Java Version: openjdk version \"1.8.0_222\"; OpenJDK Runtime Environment (build 1.8.0_222-8u222-b10-1~deb9u1-b10); OpenJDK 64-Bit Server VM (build 25.222-b10, mixed mode)\n",
      "  Starting server from /home/jupyter/.local/lib/python3.5/site-packages/h2o/backend/bin/h2o.jar\n",
      "  Ice root: /tmp/tmpgtuep9p1\n",
      "  JVM stdout: /tmp/tmpgtuep9p1/h2o_jupyter_started_from_python.out\n",
      "  JVM stderr: /tmp/tmpgtuep9p1/h2o_jupyter_started_from_python.err\n",
      "  Server is running at http://127.0.0.1:54321\n",
      "Connecting to H2O server at http://127.0.0.1:54321 ... successful.\n"
     ]
    },
    {
     "data": {
      "text/html": [
       "<div style=\"overflow:auto\"><table style=\"width:50%\"><tr><td>H2O cluster uptime:</td>\n",
       "<td>02 secs</td></tr>\n",
       "<tr><td>H2O cluster timezone:</td>\n",
       "<td>Etc/UTC</td></tr>\n",
       "<tr><td>H2O data parsing timezone:</td>\n",
       "<td>UTC</td></tr>\n",
       "<tr><td>H2O cluster version:</td>\n",
       "<td>3.26.0.3</td></tr>\n",
       "<tr><td>H2O cluster version age:</td>\n",
       "<td>8 days </td></tr>\n",
       "<tr><td>H2O cluster name:</td>\n",
       "<td>H2O_from_python_jupyter_hbiokl</td></tr>\n",
       "<tr><td>H2O cluster total nodes:</td>\n",
       "<td>1</td></tr>\n",
       "<tr><td>H2O cluster free memory:</td>\n",
       "<td>3.134 Gb</td></tr>\n",
       "<tr><td>H2O cluster total cores:</td>\n",
       "<td>16</td></tr>\n",
       "<tr><td>H2O cluster allowed cores:</td>\n",
       "<td>16</td></tr>\n",
       "<tr><td>H2O cluster status:</td>\n",
       "<td>accepting new members, healthy</td></tr>\n",
       "<tr><td>H2O connection url:</td>\n",
       "<td>http://127.0.0.1:54321</td></tr>\n",
       "<tr><td>H2O connection proxy:</td>\n",
       "<td>None</td></tr>\n",
       "<tr><td>H2O internal security:</td>\n",
       "<td>False</td></tr>\n",
       "<tr><td>H2O API Extensions:</td>\n",
       "<td>Amazon S3, XGBoost, Algos, AutoML, Core V3, Core V4</td></tr>\n",
       "<tr><td>Python version:</td>\n",
       "<td>3.5.3 final</td></tr></table></div>"
      ],
      "text/plain": [
       "--------------------------  ---------------------------------------------------\n",
       "H2O cluster uptime:         02 secs\n",
       "H2O cluster timezone:       Etc/UTC\n",
       "H2O data parsing timezone:  UTC\n",
       "H2O cluster version:        3.26.0.3\n",
       "H2O cluster version age:    8 days\n",
       "H2O cluster name:           H2O_from_python_jupyter_hbiokl\n",
       "H2O cluster total nodes:    1\n",
       "H2O cluster free memory:    3.134 Gb\n",
       "H2O cluster total cores:    16\n",
       "H2O cluster allowed cores:  16\n",
       "H2O cluster status:         accepting new members, healthy\n",
       "H2O connection url:         http://127.0.0.1:54321\n",
       "H2O connection proxy:\n",
       "H2O internal security:      False\n",
       "H2O API Extensions:         Amazon S3, XGBoost, Algos, AutoML, Core V3, Core V4\n",
       "Python version:             3.5.3 final\n",
       "--------------------------  ---------------------------------------------------"
      ]
     },
     "metadata": {},
     "output_type": "display_data"
    },
    {
     "name": "stdout",
     "output_type": "stream",
     "text": [
      "Parse progress: |█████████████████████████████████████████████████████████| 100%\n"
     ]
    }
   ],
   "source": [
    "if h2o2==True:\n",
    "    H2O_server = h2o.init(strict_version_check=False, port=54321,  nthreads=-1)\n",
    "    df = h2o.H2OFrame(data)"
   ]
  },
  {
   "cell_type": "code",
   "execution_count": 15,
   "metadata": {},
   "outputs": [],
   "source": [
    "def MAPE(actual, predict):\n",
    "    abs_pct_error = abs((actual - predict) / actual)\n",
    "    mape = abs_pct_error.mean()[0]*100\n",
    "    return mape"
   ]
  },
  {
   "cell_type": "code",
   "execution_count": null,
   "metadata": {},
   "outputs": [],
   "source": [
    "models=[]\n",
    "for i in y:\n",
    "    print (\"modelos para: \"+i)\n",
    "    aml = H2OAutoML(nfolds=10,\n",
    "                          seed=1234,project_name=str(i))\n",
    "    aml.train(x = x, y = i, training_frame = df)\n",
    "    print(aml.leaderboard)\n",
    "    models.append(aml.leaderboard)\n",
    "    model_path = h2o.save_model(model=aml.leader, path=\"models/felipin/\"+str(i), force=True)\n",
    "    mape_v1 = MAPE(df[y], aml.leader.predict(df))\n",
    "    print(\"MAPE: \" + str(round(mape_v1, 4))+'%')\n",
    "    print (\"------------------------------------------------------------\")"
   ]
  },
  {
   "cell_type": "code",
   "execution_count": null,
   "metadata": {},
   "outputs": [],
   "source": [
    "mape_v1 = MAPE(df[y], aml.leader.predict(df))\n",
    "print(\"MAPE: \" + str(round(mape_v1, 4))+'%')"
   ]
  }
 ],
 "metadata": {
  "kernelspec": {
   "display_name": "Python 3",
   "language": "python",
   "name": "python3"
  },
  "language_info": {
   "codemirror_mode": {
    "name": "ipython",
    "version": 3
   },
   "file_extension": ".py",
   "mimetype": "text/x-python",
   "name": "python",
   "nbconvert_exporter": "python",
   "pygments_lexer": "ipython3",
   "version": "3.5.3"
  }
 },
 "nbformat": 4,
 "nbformat_minor": 4
}
